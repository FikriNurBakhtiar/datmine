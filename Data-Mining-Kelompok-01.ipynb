{
 "cells": [
  {
   "cell_type": "markdown",
   "id": "e58fb012",
   "metadata": {},
   "source": [
    "# Kelompok 01 : Jumlah DTKS Berdasarkan Kelurahan di Jawa Barat\n",
    "Kami dari kelompok 01 yang beranggotakan:\n",
    "\n",
    "~ Fathan Shofwan Apip\n",
    "\n",
    "~ Muhamad Fikri Nur Bakhtiar\n",
    "\n",
    "~ Muhammad Satria Ramadhani\n",
    "\n",
    "~ Wildan Septi Ramadhan\n",
    "\n",
    "Mengerjakan tugas Data Mining dan Warehouse dengan menggunakan dataset \"Jumlah DTKS Berdasarkan Kelurahan di Jawa Barat pada tahun 2019-2020\". Adapun sumber dataset dapat diakses melalui:\n",
    "https://opendata.jabarprov.go.id/id/dataset/jumlah-dtks-berdasarkan-kelurahan-di-jawa-barat"
   ]
  },
  {
   "cell_type": "markdown",
   "id": "5f2083f8",
   "metadata": {},
   "source": [
    "#### #1: Inisialisasi library dan dataset ke Jupyter Notebook."
   ]
  },
  {
   "cell_type": "code",
   "execution_count": 1,
   "id": "4316df03",
   "metadata": {},
   "outputs": [],
   "source": [
    "%matplotlib inline\n",
    "import numpy as np\n",
    "import pandas as pd\n",
    "import matplotlib.pyplot as plt\n",
    "import seaborn as sns"
   ]
  },
  {
   "cell_type": "code",
   "execution_count": 2,
   "id": "d5825c49",
   "metadata": {},
   "outputs": [
    {
     "data": {
      "text/html": [
       "<div>\n",
       "<style scoped>\n",
       "    .dataframe tbody tr th:only-of-type {\n",
       "        vertical-align: middle;\n",
       "    }\n",
       "\n",
       "    .dataframe tbody tr th {\n",
       "        vertical-align: top;\n",
       "    }\n",
       "\n",
       "    .dataframe thead th {\n",
       "        text-align: right;\n",
       "    }\n",
       "</style>\n",
       "<table border=\"1\" class=\"dataframe\">\n",
       "  <thead>\n",
       "    <tr style=\"text-align: right;\">\n",
       "      <th></th>\n",
       "      <th>id</th>\n",
       "      <th>kode_provinsi</th>\n",
       "      <th>nama_provinsi</th>\n",
       "      <th>bps_kode_kabupaten_kota</th>\n",
       "      <th>bps_nama_kabupaten_kota</th>\n",
       "      <th>bps_kode_kecamatan</th>\n",
       "      <th>bps_nama_kecamatan</th>\n",
       "      <th>bps_kode_desa_kelurahan</th>\n",
       "      <th>bps_desa_kelurahan</th>\n",
       "      <th>kemendagri_kode_kecamatan</th>\n",
       "      <th>kemendagri_nama_kecamatan</th>\n",
       "      <th>kemendagri_kode_desa_kelurahan</th>\n",
       "      <th>kemendagri_nama_desa_kelurahan</th>\n",
       "      <th>jumlah</th>\n",
       "      <th>satuan</th>\n",
       "      <th>tahun</th>\n",
       "    </tr>\n",
       "  </thead>\n",
       "  <tbody>\n",
       "    <tr>\n",
       "      <th>0</th>\n",
       "      <td>1</td>\n",
       "      <td>32</td>\n",
       "      <td>JAWA BARAT</td>\n",
       "      <td>3201</td>\n",
       "      <td>KABUPATEN BOGOR</td>\n",
       "      <td>3201010</td>\n",
       "      <td>NANGGUNG</td>\n",
       "      <td>3201010001</td>\n",
       "      <td>MALASARI</td>\n",
       "      <td>1/21/32</td>\n",
       "      <td>NANGGUNG</td>\n",
       "      <td>32.01.21.2001</td>\n",
       "      <td>MALASARI</td>\n",
       "      <td>1075</td>\n",
       "      <td>KRTS</td>\n",
       "      <td>2019</td>\n",
       "    </tr>\n",
       "    <tr>\n",
       "      <th>1</th>\n",
       "      <td>2</td>\n",
       "      <td>32</td>\n",
       "      <td>JAWA BARAT</td>\n",
       "      <td>3201</td>\n",
       "      <td>KABUPATEN BOGOR</td>\n",
       "      <td>3201010</td>\n",
       "      <td>NANGGUNG</td>\n",
       "      <td>3201010002</td>\n",
       "      <td>BANTAR KARET</td>\n",
       "      <td>1/21/32</td>\n",
       "      <td>NANGGUNG</td>\n",
       "      <td>32.01.21.2004</td>\n",
       "      <td>BANTARKARET</td>\n",
       "      <td>1277</td>\n",
       "      <td>KRTS</td>\n",
       "      <td>2019</td>\n",
       "    </tr>\n",
       "    <tr>\n",
       "      <th>2</th>\n",
       "      <td>3</td>\n",
       "      <td>32</td>\n",
       "      <td>JAWA BARAT</td>\n",
       "      <td>3201</td>\n",
       "      <td>KABUPATEN BOGOR</td>\n",
       "      <td>3201010</td>\n",
       "      <td>NANGGUNG</td>\n",
       "      <td>3201010003</td>\n",
       "      <td>CISARUA</td>\n",
       "      <td>1/21/32</td>\n",
       "      <td>NANGGUNG</td>\n",
       "      <td>32.01.21.2003</td>\n",
       "      <td>CISARUA</td>\n",
       "      <td>1089</td>\n",
       "      <td>KRTS</td>\n",
       "      <td>2019</td>\n",
       "    </tr>\n",
       "    <tr>\n",
       "      <th>3</th>\n",
       "      <td>4</td>\n",
       "      <td>32</td>\n",
       "      <td>JAWA BARAT</td>\n",
       "      <td>3201</td>\n",
       "      <td>KABUPATEN BOGOR</td>\n",
       "      <td>3201010</td>\n",
       "      <td>NANGGUNG</td>\n",
       "      <td>3201010004</td>\n",
       "      <td>CURUG BITUNG</td>\n",
       "      <td>1/21/32</td>\n",
       "      <td>NANGGUNG</td>\n",
       "      <td>32.01.21.2002</td>\n",
       "      <td>CURUGBITUNG</td>\n",
       "      <td>1092</td>\n",
       "      <td>KRTS</td>\n",
       "      <td>2019</td>\n",
       "    </tr>\n",
       "    <tr>\n",
       "      <th>4</th>\n",
       "      <td>5</td>\n",
       "      <td>32</td>\n",
       "      <td>JAWA BARAT</td>\n",
       "      <td>3201</td>\n",
       "      <td>KABUPATEN BOGOR</td>\n",
       "      <td>3201010</td>\n",
       "      <td>NANGGUNG</td>\n",
       "      <td>3201010005</td>\n",
       "      <td>NANGGUNG</td>\n",
       "      <td>1/21/32</td>\n",
       "      <td>NANGGUNG</td>\n",
       "      <td>32.01.21.2007</td>\n",
       "      <td>NANGGUNG</td>\n",
       "      <td>851</td>\n",
       "      <td>KRTS</td>\n",
       "      <td>2019</td>\n",
       "    </tr>\n",
       "    <tr>\n",
       "      <th>5</th>\n",
       "      <td>6</td>\n",
       "      <td>32</td>\n",
       "      <td>JAWA BARAT</td>\n",
       "      <td>3201</td>\n",
       "      <td>KABUPATEN BOGOR</td>\n",
       "      <td>3201010</td>\n",
       "      <td>NANGGUNG</td>\n",
       "      <td>3201010006</td>\n",
       "      <td>PANGKAL JAYA</td>\n",
       "      <td>1/21/32</td>\n",
       "      <td>NANGGUNG</td>\n",
       "      <td>32.01.21.2009</td>\n",
       "      <td>PANGKALJAYA</td>\n",
       "      <td>1070</td>\n",
       "      <td>KRTS</td>\n",
       "      <td>2019</td>\n",
       "    </tr>\n",
       "    <tr>\n",
       "      <th>6</th>\n",
       "      <td>7</td>\n",
       "      <td>32</td>\n",
       "      <td>JAWA BARAT</td>\n",
       "      <td>3201</td>\n",
       "      <td>KABUPATEN BOGOR</td>\n",
       "      <td>3201010</td>\n",
       "      <td>NANGGUNG</td>\n",
       "      <td>3201010007</td>\n",
       "      <td>SUKALUYU</td>\n",
       "      <td>1/21/32</td>\n",
       "      <td>NANGGUNG</td>\n",
       "      <td>32.01.21.2010</td>\n",
       "      <td>SUKALUYU</td>\n",
       "      <td>919</td>\n",
       "      <td>KRTS</td>\n",
       "      <td>2019</td>\n",
       "    </tr>\n",
       "    <tr>\n",
       "      <th>7</th>\n",
       "      <td>8</td>\n",
       "      <td>32</td>\n",
       "      <td>JAWA BARAT</td>\n",
       "      <td>3201</td>\n",
       "      <td>KABUPATEN BOGOR</td>\n",
       "      <td>3201010</td>\n",
       "      <td>NANGGUNG</td>\n",
       "      <td>3201010008</td>\n",
       "      <td>HAMBARO</td>\n",
       "      <td>1/21/32</td>\n",
       "      <td>NANGGUNG</td>\n",
       "      <td>32.01.21.2005</td>\n",
       "      <td>HAMBARO</td>\n",
       "      <td>856</td>\n",
       "      <td>KRTS</td>\n",
       "      <td>2019</td>\n",
       "    </tr>\n",
       "    <tr>\n",
       "      <th>8</th>\n",
       "      <td>9</td>\n",
       "      <td>32</td>\n",
       "      <td>JAWA BARAT</td>\n",
       "      <td>3201</td>\n",
       "      <td>KABUPATEN BOGOR</td>\n",
       "      <td>3201010</td>\n",
       "      <td>NANGGUNG</td>\n",
       "      <td>3201010009</td>\n",
       "      <td>KALONG LIUD</td>\n",
       "      <td>1/21/32</td>\n",
       "      <td>NANGGUNG</td>\n",
       "      <td>32.01.21.2006</td>\n",
       "      <td>KALONGLIUD</td>\n",
       "      <td>758</td>\n",
       "      <td>KRTS</td>\n",
       "      <td>2019</td>\n",
       "    </tr>\n",
       "    <tr>\n",
       "      <th>9</th>\n",
       "      <td>10</td>\n",
       "      <td>32</td>\n",
       "      <td>JAWA BARAT</td>\n",
       "      <td>3201</td>\n",
       "      <td>KABUPATEN BOGOR</td>\n",
       "      <td>3201010</td>\n",
       "      <td>NANGGUNG</td>\n",
       "      <td>3201010010</td>\n",
       "      <td>PARAKAN MUNCANG</td>\n",
       "      <td>1/21/32</td>\n",
       "      <td>NANGGUNG</td>\n",
       "      <td>32.01.21.2008</td>\n",
       "      <td>PARAKANMUNCANG</td>\n",
       "      <td>816</td>\n",
       "      <td>KRTS</td>\n",
       "      <td>2019</td>\n",
       "    </tr>\n",
       "  </tbody>\n",
       "</table>\n",
       "</div>"
      ],
      "text/plain": [
       "   id  kode_provinsi nama_provinsi  bps_kode_kabupaten_kota  \\\n",
       "0   1             32    JAWA BARAT                     3201   \n",
       "1   2             32    JAWA BARAT                     3201   \n",
       "2   3             32    JAWA BARAT                     3201   \n",
       "3   4             32    JAWA BARAT                     3201   \n",
       "4   5             32    JAWA BARAT                     3201   \n",
       "5   6             32    JAWA BARAT                     3201   \n",
       "6   7             32    JAWA BARAT                     3201   \n",
       "7   8             32    JAWA BARAT                     3201   \n",
       "8   9             32    JAWA BARAT                     3201   \n",
       "9  10             32    JAWA BARAT                     3201   \n",
       "\n",
       "  bps_nama_kabupaten_kota bps_kode_kecamatan bps_nama_kecamatan  \\\n",
       "0         KABUPATEN BOGOR            3201010           NANGGUNG   \n",
       "1         KABUPATEN BOGOR            3201010           NANGGUNG   \n",
       "2         KABUPATEN BOGOR            3201010           NANGGUNG   \n",
       "3         KABUPATEN BOGOR            3201010           NANGGUNG   \n",
       "4         KABUPATEN BOGOR            3201010           NANGGUNG   \n",
       "5         KABUPATEN BOGOR            3201010           NANGGUNG   \n",
       "6         KABUPATEN BOGOR            3201010           NANGGUNG   \n",
       "7         KABUPATEN BOGOR            3201010           NANGGUNG   \n",
       "8         KABUPATEN BOGOR            3201010           NANGGUNG   \n",
       "9         KABUPATEN BOGOR            3201010           NANGGUNG   \n",
       "\n",
       "  bps_kode_desa_kelurahan bps_desa_kelurahan kemendagri_kode_kecamatan  \\\n",
       "0              3201010001           MALASARI                   1/21/32   \n",
       "1              3201010002       BANTAR KARET                   1/21/32   \n",
       "2              3201010003            CISARUA                   1/21/32   \n",
       "3              3201010004       CURUG BITUNG                   1/21/32   \n",
       "4              3201010005           NANGGUNG                   1/21/32   \n",
       "5              3201010006       PANGKAL JAYA                   1/21/32   \n",
       "6              3201010007           SUKALUYU                   1/21/32   \n",
       "7              3201010008            HAMBARO                   1/21/32   \n",
       "8              3201010009        KALONG LIUD                   1/21/32   \n",
       "9              3201010010    PARAKAN MUNCANG                   1/21/32   \n",
       "\n",
       "  kemendagri_nama_kecamatan kemendagri_kode_desa_kelurahan  \\\n",
       "0                  NANGGUNG                  32.01.21.2001   \n",
       "1                  NANGGUNG                  32.01.21.2004   \n",
       "2                  NANGGUNG                  32.01.21.2003   \n",
       "3                  NANGGUNG                  32.01.21.2002   \n",
       "4                  NANGGUNG                  32.01.21.2007   \n",
       "5                  NANGGUNG                  32.01.21.2009   \n",
       "6                  NANGGUNG                  32.01.21.2010   \n",
       "7                  NANGGUNG                  32.01.21.2005   \n",
       "8                  NANGGUNG                  32.01.21.2006   \n",
       "9                  NANGGUNG                  32.01.21.2008   \n",
       "\n",
       "  kemendagri_nama_desa_kelurahan  jumlah satuan  tahun  \n",
       "0                       MALASARI    1075   KRTS   2019  \n",
       "1                    BANTARKARET    1277   KRTS   2019  \n",
       "2                        CISARUA    1089   KRTS   2019  \n",
       "3                    CURUGBITUNG    1092   KRTS   2019  \n",
       "4                       NANGGUNG     851   KRTS   2019  \n",
       "5                    PANGKALJAYA    1070   KRTS   2019  \n",
       "6                       SUKALUYU     919   KRTS   2019  \n",
       "7                        HAMBARO     856   KRTS   2019  \n",
       "8                     KALONGLIUD     758   KRTS   2019  \n",
       "9                 PARAKANMUNCANG     816   KRTS   2019  "
      ]
     },
     "execution_count": 2,
     "metadata": {},
     "output_type": "execute_result"
    }
   ],
   "source": [
    "# Direktori file menyesuaikan.\n",
    "df = pd.read_csv(\"D:\\\\data.jabarprov.go.id\\\\jumlah_dtks_berdasarkan_kelurahan_data.csv\")\n",
    "df.head(10)"
   ]
  },
  {
   "cell_type": "markdown",
   "id": "0456789d",
   "metadata": {},
   "source": [
    "#### #2: Baca daftar kolom yang ada pada data."
   ]
  },
  {
   "cell_type": "code",
   "execution_count": 3,
   "id": "2fb4ab13",
   "metadata": {},
   "outputs": [
    {
     "name": "stdout",
     "output_type": "stream",
     "text": [
      "<class 'pandas.core.frame.DataFrame'>\n",
      "RangeIndex: 11956 entries, 0 to 11955\n",
      "Data columns (total 16 columns):\n",
      " #   Column                          Non-Null Count  Dtype \n",
      "---  ------                          --------------  ----- \n",
      " 0   id                              11956 non-null  int64 \n",
      " 1   kode_provinsi                   11956 non-null  int64 \n",
      " 2   nama_provinsi                   11956 non-null  object\n",
      " 3   bps_kode_kabupaten_kota         11956 non-null  int64 \n",
      " 4   bps_nama_kabupaten_kota         11956 non-null  object\n",
      " 5   bps_kode_kecamatan              11956 non-null  object\n",
      " 6   bps_nama_kecamatan              11956 non-null  object\n",
      " 7   bps_kode_desa_kelurahan         11956 non-null  object\n",
      " 8   bps_desa_kelurahan              11956 non-null  object\n",
      " 9   kemendagri_kode_kecamatan       11956 non-null  object\n",
      " 10  kemendagri_nama_kecamatan       11956 non-null  object\n",
      " 11  kemendagri_kode_desa_kelurahan  11956 non-null  object\n",
      " 12  kemendagri_nama_desa_kelurahan  11956 non-null  object\n",
      " 13  jumlah                          11956 non-null  int64 \n",
      " 14  satuan                          11956 non-null  object\n",
      " 15  tahun                           11956 non-null  int64 \n",
      "dtypes: int64(5), object(11)\n",
      "memory usage: 1.5+ MB\n"
     ]
    },
    {
     "data": {
      "text/plain": [
       "11956"
      ]
     },
     "execution_count": 3,
     "metadata": {},
     "output_type": "execute_result"
    }
   ],
   "source": [
    "df.info()\n",
    "len(df)"
   ]
  },
  {
   "cell_type": "markdown",
   "id": "31219c1d",
   "metadata": {},
   "source": [
    "#### #3: Eksplorasi jumlah data.\n",
    "Setelah diperhatikan, data \"kode_provinsi\", \"nama_provinsi\", dan \"satuan\" hanya memiliki 1 _value_, sehingga kolom bisa dihilangkan.\n",
    "\n",
    "Selain itu, ada ketidaksinkronan data antara BPS dengan Kemendagri. Untuk memudahkan praproses, maka data yang digunakan akan dari BPS terlebih dahulu. Data Kemendagri disimpan di dataset back-up."
   ]
  },
  {
   "cell_type": "code",
   "execution_count": 4,
   "id": "d98dbf9c",
   "metadata": {},
   "outputs": [],
   "source": [
    "df = df.drop(df.columns[df.nunique()==1],axis=1)"
   ]
  },
  {
   "cell_type": "code",
   "execution_count": 5,
   "id": "829326b6",
   "metadata": {},
   "outputs": [],
   "source": [
    "df_backup = df.copy()\n",
    "df = df.drop(['kemendagri_kode_kecamatan','kemendagri_nama_kecamatan','kemendagri_kode_desa_kelurahan','kemendagri_nama_desa_kelurahan'],axis=1)"
   ]
  },
  {
   "cell_type": "markdown",
   "id": "83d6b05d",
   "metadata": {},
   "source": [
    "Data setelah beberapa atribut dihapus."
   ]
  },
  {
   "cell_type": "code",
   "execution_count": 6,
   "id": "1fe96a29",
   "metadata": {},
   "outputs": [
    {
     "name": "stdout",
     "output_type": "stream",
     "text": [
      "<class 'pandas.core.frame.DataFrame'>\n",
      "RangeIndex: 11956 entries, 0 to 11955\n",
      "Data columns (total 9 columns):\n",
      " #   Column                   Non-Null Count  Dtype \n",
      "---  ------                   --------------  ----- \n",
      " 0   id                       11956 non-null  int64 \n",
      " 1   bps_kode_kabupaten_kota  11956 non-null  int64 \n",
      " 2   bps_nama_kabupaten_kota  11956 non-null  object\n",
      " 3   bps_kode_kecamatan       11956 non-null  object\n",
      " 4   bps_nama_kecamatan       11956 non-null  object\n",
      " 5   bps_kode_desa_kelurahan  11956 non-null  object\n",
      " 6   bps_desa_kelurahan       11956 non-null  object\n",
      " 7   jumlah                   11956 non-null  int64 \n",
      " 8   tahun                    11956 non-null  int64 \n",
      "dtypes: int64(4), object(5)\n",
      "memory usage: 840.8+ KB\n"
     ]
    },
    {
     "data": {
      "text/plain": [
       "11956"
      ]
     },
     "execution_count": 6,
     "metadata": {},
     "output_type": "execute_result"
    }
   ],
   "source": [
    "df.info()\n",
    "len(df)"
   ]
  },
  {
   "cell_type": "markdown",
   "id": "1cb5465a",
   "metadata": {},
   "source": [
    "#### #4: Plot grafik \"bps_nama_kabupaten_kota\" dengan perbandingan \"tahun\" menggunakan countplot."
   ]
  },
  {
   "cell_type": "code",
   "execution_count": 7,
   "id": "6bfa2e00",
   "metadata": {},
   "outputs": [
    {
     "data": {
      "text/plain": [
       "<AxesSubplot:xlabel='tahun', ylabel='count'>"
      ]
     },
     "execution_count": 7,
     "metadata": {},
     "output_type": "execute_result"
    },
    {
     "data": {
      "image/png": "[encoded data removed]",
      "text/plain": [
       "<Figure size 432x288 with 1 Axes>"
      ]
     },
     "metadata": {
      "needs_background": "light"
     },
     "output_type": "display_data"
    }
   ],
   "source": [
    "sns.countplot(x=\"tahun\", data=df)"
   ]
  },
  {
   "cell_type": "markdown",
   "id": "8b827462",
   "metadata": {},
   "source": [
    "Data yang menarik di sini adalah, tahun 2019 dan 2020 hampir sama. Sulit untuk dibedakan secara grafik, sehingga memerlukan data angka lebih lanjut."
   ]
  },
  {
   "cell_type": "code",
   "execution_count": 8,
   "id": "e509b199",
   "metadata": {},
   "outputs": [
    {
     "data": {
      "text/plain": [
       "2019    5983\n",
       "2020    5973\n",
       "Name: tahun, dtype: int64"
      ]
     },
     "execution_count": 8,
     "metadata": {},
     "output_type": "execute_result"
    }
   ],
   "source": [
    "df.tahun.value_counts()"
   ]
  },
  {
   "cell_type": "markdown",
   "id": "7b8da699",
   "metadata": {},
   "source": [
    "Dapat dilihat, hal yang menarik adalah perbedaan jumlah DTKS pada tahun 2019 dengan 2020 hanya ada sepuluh. Untuk lebih detailnya, kita lihat sesuai kabupaten/kota."
   ]
  },
  {
   "cell_type": "code",
   "execution_count": 9,
   "id": "64d5e02f",
   "metadata": {},
   "outputs": [
    {
     "data": {
      "text/plain": [
       "<AxesSubplot:xlabel='bps_nama_kabupaten_kota', ylabel='count'>"
      ]
     },
     "execution_count": 9,
     "metadata": {},
     "output_type": "execute_result"
    },
    {
     "data": {
      "image/png": "[encoded data removed]",
      "text/plain": [
       "<Figure size 1440x360 with 1 Axes>"
      ]
     },
     "metadata": {
      "needs_background": "light"
     },
     "output_type": "display_data"
    }
   ],
   "source": [
    "fig, ax = plt.subplots(figsize=(20, 5))\n",
    "sns.countplot(ax=ax, x=\"bps_nama_kabupaten_kota\", hue=\"tahun\", data=df)"
   ]
  },
  {
   "cell_type": "markdown",
   "id": "8a223bf9",
   "metadata": {},
   "source": [
    "Karena nama data sulit dibaca, gunakan \"bps_kode_kabupaten_kota\" saja.\n",
    "\n",
    "Meski begitu, pembacaan grafik akan sulit karena kita hanya melihat kodenya saja. Oleh karena itu, tambahkan keterangan tambahan dengan menggunakan fungsi agregasi. Tampilkan data secara maksimal."
   ]
  },
  {
   "cell_type": "code",
   "execution_count": 10,
   "id": "0b91d73b",
   "metadata": {},
   "outputs": [
    {
     "data": {
      "text/html": [
       "<div>\n",
       "<style scoped>\n",
       "    .dataframe tbody tr th:only-of-type {\n",
       "        vertical-align: middle;\n",
       "    }\n",
       "\n",
       "    .dataframe tbody tr th {\n",
       "        vertical-align: top;\n",
       "    }\n",
       "\n",
       "    .dataframe thead th {\n",
       "        text-align: right;\n",
       "    }\n",
       "</style>\n",
       "<table border=\"1\" class=\"dataframe\">\n",
       "  <thead>\n",
       "    <tr style=\"text-align: right;\">\n",
       "      <th></th>\n",
       "      <th>bps_kode_kabupaten_kota</th>\n",
       "      <th>bps_nama_kabupaten_kota</th>\n",
       "      <th>Total</th>\n",
       "    </tr>\n",
       "  </thead>\n",
       "  <tbody>\n",
       "    <tr>\n",
       "      <th>0</th>\n",
       "      <td>3201</td>\n",
       "      <td>KABUPATEN BOGOR</td>\n",
       "      <td>868</td>\n",
       "    </tr>\n",
       "    <tr>\n",
       "      <th>1</th>\n",
       "      <td>3202</td>\n",
       "      <td>KABUPATEN SUKABUMI</td>\n",
       "      <td>772</td>\n",
       "    </tr>\n",
       "    <tr>\n",
       "      <th>2</th>\n",
       "      <td>3203</td>\n",
       "      <td>KABUPATEN CIANJUR</td>\n",
       "      <td>720</td>\n",
       "    </tr>\n",
       "    <tr>\n",
       "      <th>3</th>\n",
       "      <td>3204</td>\n",
       "      <td>KABUPATEN BANDUNG</td>\n",
       "      <td>562</td>\n",
       "    </tr>\n",
       "    <tr>\n",
       "      <th>4</th>\n",
       "      <td>3205</td>\n",
       "      <td>KABUPATEN GARUT</td>\n",
       "      <td>884</td>\n",
       "    </tr>\n",
       "    <tr>\n",
       "      <th>5</th>\n",
       "      <td>3206</td>\n",
       "      <td>KABUPATEN TASIKMALAYA</td>\n",
       "      <td>702</td>\n",
       "    </tr>\n",
       "    <tr>\n",
       "      <th>6</th>\n",
       "      <td>3207</td>\n",
       "      <td>KABUPATEN CIAMIS</td>\n",
       "      <td>542</td>\n",
       "    </tr>\n",
       "    <tr>\n",
       "      <th>7</th>\n",
       "      <td>3208</td>\n",
       "      <td>KABUPATEN KUNINGAN</td>\n",
       "      <td>752</td>\n",
       "    </tr>\n",
       "    <tr>\n",
       "      <th>8</th>\n",
       "      <td>3209</td>\n",
       "      <td>KABUPATEN CIREBON</td>\n",
       "      <td>848</td>\n",
       "    </tr>\n",
       "    <tr>\n",
       "      <th>9</th>\n",
       "      <td>3210</td>\n",
       "      <td>KABUPATEN MAJALENGKA</td>\n",
       "      <td>690</td>\n",
       "    </tr>\n",
       "    <tr>\n",
       "      <th>10</th>\n",
       "      <td>3211</td>\n",
       "      <td>KABUPATEN SUMEDANG</td>\n",
       "      <td>566</td>\n",
       "    </tr>\n",
       "    <tr>\n",
       "      <th>11</th>\n",
       "      <td>3212</td>\n",
       "      <td>KABUPATEN INDRAMAYU</td>\n",
       "      <td>634</td>\n",
       "    </tr>\n",
       "    <tr>\n",
       "      <th>12</th>\n",
       "      <td>3213</td>\n",
       "      <td>KABUPATEN SUBANG</td>\n",
       "      <td>516</td>\n",
       "    </tr>\n",
       "    <tr>\n",
       "      <th>13</th>\n",
       "      <td>3214</td>\n",
       "      <td>KABUPATEN PURWAKARTA</td>\n",
       "      <td>384</td>\n",
       "    </tr>\n",
       "    <tr>\n",
       "      <th>14</th>\n",
       "      <td>3215</td>\n",
       "      <td>KABUPATEN KARAWANG</td>\n",
       "      <td>618</td>\n",
       "    </tr>\n",
       "    <tr>\n",
       "      <th>15</th>\n",
       "      <td>3216</td>\n",
       "      <td>KABUPATEN BEKASI</td>\n",
       "      <td>374</td>\n",
       "    </tr>\n",
       "    <tr>\n",
       "      <th>16</th>\n",
       "      <td>3217</td>\n",
       "      <td>KABUPATEN BANDUNG BARAT</td>\n",
       "      <td>334</td>\n",
       "    </tr>\n",
       "    <tr>\n",
       "      <th>17</th>\n",
       "      <td>3218</td>\n",
       "      <td>KABUPATEN PANGANDARAN</td>\n",
       "      <td>186</td>\n",
       "    </tr>\n",
       "    <tr>\n",
       "      <th>18</th>\n",
       "      <td>3271</td>\n",
       "      <td>KOTA BOGOR</td>\n",
       "      <td>136</td>\n",
       "    </tr>\n",
       "    <tr>\n",
       "      <th>19</th>\n",
       "      <td>3272</td>\n",
       "      <td>KOTA SUKABUMI</td>\n",
       "      <td>66</td>\n",
       "    </tr>\n",
       "    <tr>\n",
       "      <th>20</th>\n",
       "      <td>3273</td>\n",
       "      <td>KOTA BANDUNG</td>\n",
       "      <td>302</td>\n",
       "    </tr>\n",
       "    <tr>\n",
       "      <th>21</th>\n",
       "      <td>3274</td>\n",
       "      <td>KOTA CIREBON</td>\n",
       "      <td>44</td>\n",
       "    </tr>\n",
       "    <tr>\n",
       "      <th>22</th>\n",
       "      <td>3275</td>\n",
       "      <td>KOTA BEKASI</td>\n",
       "      <td>112</td>\n",
       "    </tr>\n",
       "    <tr>\n",
       "      <th>23</th>\n",
       "      <td>3276</td>\n",
       "      <td>KOTA DEPOK</td>\n",
       "      <td>126</td>\n",
       "    </tr>\n",
       "    <tr>\n",
       "      <th>24</th>\n",
       "      <td>3277</td>\n",
       "      <td>KOTA CIMAHI</td>\n",
       "      <td>30</td>\n",
       "    </tr>\n",
       "    <tr>\n",
       "      <th>25</th>\n",
       "      <td>3278</td>\n",
       "      <td>KOTA TASIKMALAYA</td>\n",
       "      <td>138</td>\n",
       "    </tr>\n",
       "    <tr>\n",
       "      <th>26</th>\n",
       "      <td>3279</td>\n",
       "      <td>KOTA BANJAR</td>\n",
       "      <td>50</td>\n",
       "    </tr>\n",
       "  </tbody>\n",
       "</table>\n",
       "</div>"
      ],
      "text/plain": [
       "    bps_kode_kabupaten_kota  bps_nama_kabupaten_kota  Total\n",
       "0                      3201          KABUPATEN BOGOR    868\n",
       "1                      3202       KABUPATEN SUKABUMI    772\n",
       "2                      3203        KABUPATEN CIANJUR    720\n",
       "3                      3204        KABUPATEN BANDUNG    562\n",
       "4                      3205          KABUPATEN GARUT    884\n",
       "5                      3206    KABUPATEN TASIKMALAYA    702\n",
       "6                      3207         KABUPATEN CIAMIS    542\n",
       "7                      3208       KABUPATEN KUNINGAN    752\n",
       "8                      3209        KABUPATEN CIREBON    848\n",
       "9                      3210     KABUPATEN MAJALENGKA    690\n",
       "10                     3211       KABUPATEN SUMEDANG    566\n",
       "11                     3212      KABUPATEN INDRAMAYU    634\n",
       "12                     3213         KABUPATEN SUBANG    516\n",
       "13                     3214     KABUPATEN PURWAKARTA    384\n",
       "14                     3215       KABUPATEN KARAWANG    618\n",
       "15                     3216         KABUPATEN BEKASI    374\n",
       "16                     3217  KABUPATEN BANDUNG BARAT    334\n",
       "17                     3218    KABUPATEN PANGANDARAN    186\n",
       "18                     3271               KOTA BOGOR    136\n",
       "19                     3272            KOTA SUKABUMI     66\n",
       "20                     3273             KOTA BANDUNG    302\n",
       "21                     3274             KOTA CIREBON     44\n",
       "22                     3275              KOTA BEKASI    112\n",
       "23                     3276               KOTA DEPOK    126\n",
       "24                     3277              KOTA CIMAHI     30\n",
       "25                     3278         KOTA TASIKMALAYA    138\n",
       "26                     3279              KOTA BANJAR     50"
      ]
     },
     "execution_count": 10,
     "metadata": {},
     "output_type": "execute_result"
    }
   ],
   "source": [
    "agg_codename=df.groupby([\"bps_kode_kabupaten_kota\",\"bps_nama_kabupaten_kota\"])[\"bps_nama_kabupaten_kota\"].count().rename(\"Total\").reset_index()\n",
    "agg_codename.head(30)"
   ]
  },
  {
   "cell_type": "code",
   "execution_count": 11,
   "id": "49153a80",
   "metadata": {},
   "outputs": [
    {
     "data": {
      "text/plain": [
       "<AxesSubplot:xlabel='bps_kode_kabupaten_kota', ylabel='count'>"
      ]
     },
     "execution_count": 11,
     "metadata": {},
     "output_type": "execute_result"
    },
    {
     "data": {
      "image/png": "[encoded data removed]",
      "text/plain": [
       "<Figure size 1440x360 with 1 Axes>"
      ]
     },
     "metadata": {
      "needs_background": "light"
     },
     "output_type": "display_data"
    }
   ],
   "source": [
    "fig, ax = plt.subplots(figsize=(20, 5))\n",
    "sns.countplot(ax=ax, x=\"bps_kode_kabupaten_kota\", hue=\"tahun\", data=df)"
   ]
  },
  {
   "cell_type": "markdown",
   "id": "cc3b433b",
   "metadata": {},
   "source": [
    "Perbedaan yang menarik di sini hanya berada di Kabupaten/Kota dengan kode 3207 (Kab. Ciamis), maka penelurusan lebih lanjut akan dilakukan di sana terlebih dahulu."
   ]
  }
 ],
 "metadata": {
  "kernelspec": {
   "display_name": "Python 3 (ipykernel)",
   "language": "python",
   "name": "python3"
  },
  "language_info": {
   "codemirror_mode": {
    "name": "ipython",
    "version": 3
   },
   "file_extension": ".py",
   "mimetype": "text/x-python",
   "name": "python",
   "nbconvert_exporter": "python",
   "pygments_lexer": "ipython3",
   "version": "3.9.7"
  }
 },
 "nbformat": 4,
 "nbformat_minor": 5
}
